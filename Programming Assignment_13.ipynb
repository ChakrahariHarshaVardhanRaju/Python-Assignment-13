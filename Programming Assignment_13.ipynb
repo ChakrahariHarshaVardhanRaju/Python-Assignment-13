{
 "cells": [
  {
   "cell_type": "markdown",
   "id": "62fd0c8e",
   "metadata": {},
   "source": [
    "# Python Programming Basic Assignment 13"
   ]
  },
  {
   "cell_type": "markdown",
   "id": "ed4a3c0b",
   "metadata": {},
   "source": [
    "\n",
    "### 1. Write a program that calculates and prints the value according to the given formula:\n",
    "Q = Square root of [(2 C D)/H]\n",
    "\n",
    "Following are the fixed values of C and H:\n",
    "\n",
    "C is 50. H is 30.\n",
    "\n",
    "D is the variable whose values should be input to your program in a comma-separated sequence.\n",
    "\n",
    "Example\n",
    "\n",
    "Let us assume the following comma separated input sequence is given to the program:\n",
    "\n",
    "100,150,180\n",
    "\n",
    "The output of the program should be:\n",
    "\n",
    "18,22,24"
   ]
  },
  {
   "cell_type": "code",
   "execution_count": 7,
   "id": "cc02eb0d",
   "metadata": {},
   "outputs": [
    {
     "name": "stdout",
     "output_type": "stream",
     "text": [
      "[18, 22, 24]\n"
     ]
    }
   ],
   "source": [
    "import math\n",
    "\n",
    "C = 50\n",
    "H = 30\n",
    "\n",
    "def calc_Q(D):\n",
    "    return round(math.sqrt((2 * C * D) / H))\n",
    "\n",
    "D_values = [100, 150, 180]\n",
    "Q_values = [calc_Q(D) for D in D_values]\n",
    "print(Q_values)"
   ]
  },
  {
   "cell_type": "markdown",
   "id": "ed37b6ed",
   "metadata": {},
   "source": [
    "### 2. Write a program which takes 2 digits, X,Y as input and generates a 2-dimensional array. The element value in the i-th row and j-th column of the array should be i*j."
   ]
  },
  {
   "cell_type": "code",
   "execution_count": 8,
   "id": "b59effef",
   "metadata": {},
   "outputs": [
    {
     "name": "stdout",
     "output_type": "stream",
     "text": [
      "Enter two digits X and Y separated by space: 10 20\n",
      "[1, 2, 3, 4, 5, 6, 7, 8, 9, 10, 11, 12, 13, 14, 15, 16, 17, 18, 19, 20]\n",
      "[2, 4, 6, 8, 10, 12, 14, 16, 18, 20, 22, 24, 26, 28, 30, 32, 34, 36, 38, 40]\n",
      "[3, 6, 9, 12, 15, 18, 21, 24, 27, 30, 33, 36, 39, 42, 45, 48, 51, 54, 57, 60]\n",
      "[4, 8, 12, 16, 20, 24, 28, 32, 36, 40, 44, 48, 52, 56, 60, 64, 68, 72, 76, 80]\n",
      "[5, 10, 15, 20, 25, 30, 35, 40, 45, 50, 55, 60, 65, 70, 75, 80, 85, 90, 95, 100]\n",
      "[6, 12, 18, 24, 30, 36, 42, 48, 54, 60, 66, 72, 78, 84, 90, 96, 102, 108, 114, 120]\n",
      "[7, 14, 21, 28, 35, 42, 49, 56, 63, 70, 77, 84, 91, 98, 105, 112, 119, 126, 133, 140]\n",
      "[8, 16, 24, 32, 40, 48, 56, 64, 72, 80, 88, 96, 104, 112, 120, 128, 136, 144, 152, 160]\n",
      "[9, 18, 27, 36, 45, 54, 63, 72, 81, 90, 99, 108, 117, 126, 135, 144, 153, 162, 171, 180]\n",
      "[10, 20, 30, 40, 50, 60, 70, 80, 90, 100, 110, 120, 130, 140, 150, 160, 170, 180, 190, 200]\n"
     ]
    }
   ],
   "source": [
    "def generate_array(x, y):\n",
    "    return [[i * j for j in range(1, y + 1)] for i in range(1, x + 1)]\n",
    "\n",
    "X, Y = map(int, input(\"Enter two digits X and Y separated by space: \").split())\n",
    "result = generate_array(X, Y)\n",
    "for row in result:\n",
    "    print(row)"
   ]
  },
  {
   "cell_type": "markdown",
   "id": "bc7f977b",
   "metadata": {},
   "source": [
    "### 3. Write a program that accepts a comma separated sequence of words as input and prints the words in a comma-separated sequence after sorting them alphabetically."
   ]
  },
  {
   "cell_type": "code",
   "execution_count": 13,
   "id": "c50d6eec",
   "metadata": {},
   "outputs": [
    {
     "name": "stdout",
     "output_type": "stream",
     "text": [
      "Enter comma separated words: Python is more useful for backend, whereas Java is more useful for Frontend\n",
      " whereas Java is more useful for Frontend,Python is more useful for backend\n"
     ]
    }
   ],
   "source": [
    "def sort_words(words):\n",
    "    return sorted(words.split(\",\"))\n",
    "\n",
    "words = input(\"Enter comma separated words: \")\n",
    "sorted_words = sort_words(words)\n",
    "print(\",\".join(sorted_words))"
   ]
  },
  {
   "cell_type": "markdown",
   "id": "171c3d90",
   "metadata": {},
   "source": [
    "### 4. Write a program that accepts a sequence of whitespace separated words as input and prints the words after removing all duplicate words and sorting them alphanumerically."
   ]
  },
  {
   "cell_type": "code",
   "execution_count": 17,
   "id": "24c348c3",
   "metadata": {},
   "outputs": [
    {
     "name": "stdout",
     "output_type": "stream",
     "text": [
      "Enter whitespace separated words: python was created in 1991\n",
      "1991 created in python was\n"
     ]
    }
   ],
   "source": [
    "def sort_unique_words(words):\n",
    "    words = words.split()\n",
    "    unique_words = sorted(set(words))\n",
    "    return unique_words\n",
    "\n",
    "words = input(\"Enter whitespace separated words: \")\n",
    "sorted_unique_words = sort_unique_words(words)\n",
    "print(\" \".join(sorted_unique_words))"
   ]
  },
  {
   "cell_type": "markdown",
   "id": "88d25c49",
   "metadata": {},
   "source": [
    "### 5. Write a program that accepts a sentence and calculate the number of letters and digits."
   ]
  },
  {
   "cell_type": "code",
   "execution_count": 26,
   "id": "cd0d6d20",
   "metadata": {},
   "outputs": [
    {
     "name": "stdout",
     "output_type": "stream",
     "text": [
      "Enter a sentence: Python1234\n",
      "Letters: 6\n",
      "Digits: 4\n"
     ]
    }
   ],
   "source": [
    "def count_letters_digits(sentence):\n",
    "    letter_count = 0\n",
    "    digit_count = 0\n",
    "    for char in sentence:\n",
    "        if char.isdigit():\n",
    "            digit_count += 1\n",
    "        elif char.isalpha():\n",
    "            letter_count += 1\n",
    "    return letter_count, digit_count\n",
    "\n",
    "sentence = input(\"Enter a sentence: \")\n",
    "letter_count, digit_count = count_letters_digits(sentence)\n",
    "print(\"Letters:\", letter_count)\n",
    "print(\"Digits:\", digit_count)"
   ]
  },
  {
   "cell_type": "markdown",
   "id": "9695c4ca",
   "metadata": {},
   "source": [
    "### 6. A website requires the users to input username and password to register. Write a program to check the validity of password input by users."
   ]
  },
  {
   "cell_type": "code",
   "execution_count": 33,
   "id": "60a61027",
   "metadata": {},
   "outputs": [
    {
     "name": "stdout",
     "output_type": "stream",
     "text": [
      "Enter a password: 12345678\n",
      "Weak Password\n"
     ]
    }
   ],
   "source": [
    "def check_password(password):\n",
    "    MIN_LENGTH = 8\n",
    "    MAX_LENGTH = 16\n",
    "    HAS_DIGIT = False\n",
    "    HAS_UPPER = False\n",
    "    HAS_LOWER = False\n",
    "    if len(password) < MIN_LENGTH or len(password) > MAX_LENGTH:\n",
    "        return False\n",
    "    for char in password:\n",
    "        if char.isdigit():\n",
    "            HAS_DIGIT = True\n",
    "        elif char.islower():\n",
    "            HAS_LOWER = True\n",
    "        elif char.isupper():\n",
    "            HAS_UPPER = True\n",
    "    return HAS_DIGIT and HAS_UPPER and HAS_LOWER\n",
    "\n",
    "password = input(\"Enter a password: \")\n",
    "if check_password(password):\n",
    "    print(\"Strong Password\")\n",
    "else:\n",
    "    print(\"Weak Password\")"
   ]
  },
  {
   "cell_type": "code",
   "execution_count": null,
   "id": "edacb144",
   "metadata": {},
   "outputs": [],
   "source": []
  }
 ],
 "metadata": {
  "kernelspec": {
   "display_name": "Python 3 (ipykernel)",
   "language": "python",
   "name": "python3"
  },
  "language_info": {
   "codemirror_mode": {
    "name": "ipython",
    "version": 3
   },
   "file_extension": ".py",
   "mimetype": "text/x-python",
   "name": "python",
   "nbconvert_exporter": "python",
   "pygments_lexer": "ipython3",
   "version": "3.9.13"
  }
 },
 "nbformat": 4,
 "nbformat_minor": 5
}
